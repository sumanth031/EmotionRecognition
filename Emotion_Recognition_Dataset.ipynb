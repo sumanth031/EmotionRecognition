{
  "nbformat": 4,
  "nbformat_minor": 0,
  "metadata": {
    "colab": {
      "name": "Copy of Assignment - Face Recognition Dataset.ipynb",
      "provenance": [],
      "collapsed_sections": []
    },
    "kernelspec": {
      "name": "python3",
      "display_name": "Python 3"
    },
    "accelerator": "GPU"
  },
  "cells": [
    {
      "cell_type": "markdown",
      "metadata": {
        "id": "Cm1XpLftPi4A"
      },
      "source": [
        "# Exercise : Computer Vision\n",
        "\n",
        "# Face Expression Recognition "
      ]
    },
    {
      "cell_type": "code",
      "metadata": {
        "id": "RsGqx_ai_N8F"
      },
      "source": [
        "# Import Tensorflow 2.0\n",
        "%tensorflow_version 2.x\n",
        "import tensorflow as tf \n",
        "from tensorflow import keras\n",
        "import pandas as pd\n",
        "import matplotlib.pyplot as plt\n",
        "import numpy as np\n",
        "import random\n",
        "from tqdm import tqdm"
      ],
      "execution_count": null,
      "outputs": []
    },
    {
      "cell_type": "code",
      "metadata": {
        "id": "VnJxudHQug8G"
      },
      "source": [
        "from keras.utils import to_categorical\n",
        "from keras.callbacks import EarlyStopping\n",
        "from keras.models import Sequential\n",
        "from keras.layers import Dense, Dropout, Activation, Flatten\n",
        "from keras.layers import Conv2D, MaxPooling2D, BatchNormalization\n",
        "from keras.losses import categorical_crossentropy\n",
        "from sklearn.metrics import accuracy_score\n",
        "from keras.optimizers import Adam\n",
        "from keras.regularizers import l2\n",
        "from keras.preprocessing.image import ImageDataGenerator\n",
        "from sklearn.metrics import classification_report, confusion_matrix\n",
        "import matplotlib.pyplot as plt\n",
        "import seaborn as sns\n",
        "import gdown\n",
        "import os"
      ],
      "execution_count": null,
      "outputs": []
    },
    {
      "cell_type": "markdown",
      "metadata": {
        "id": "HKjrdUtX_N8J"
      },
      "source": [
        "## Load dataset \n",
        "\n",
        "Let's download and load the dataset and display a few random samples from it:"
      ]
    },
    {
      "cell_type": "code",
      "metadata": {
        "id": "Kgtyp9Q4ouSs",
        "outputId": "fba29d58-3e47-47ed-8bbe-fae2bc982b6c",
        "colab": {
          "base_uri": "https://localhost:8080/",
          "height": 163
        }
      },
      "source": [
        "url = 'https://drive.google.com/uc?id=1LlETXfU2Hw1yWe2iKbjA_gJ8MSB4tEVd'\n",
        "output = 'FER2013.csv'\n",
        "data = pd.read_csv(gdown.download(url, output, quiet=False))\n",
        "data_train = data[data['Usage']=='Training'].copy()\n",
        "data_val   = data[data['Usage']=='PublicTest'].copy()\n",
        "data_test  = data[data['Usage']=='PrivateTest'].copy()\n",
        "\n",
        "print(f\"\\ntrain shape: {data_train.shape}, \\nvalidation shape: {data_val.shape}, \\ntest shape: {data_test.shape}\")"
      ],
      "execution_count": null,
      "outputs": [
        {
          "output_type": "stream",
          "text": [
            "Downloading...\n",
            "From: https://drive.google.com/uc?id=1LlETXfU2Hw1yWe2iKbjA_gJ8MSB4tEVd\n",
            "To: /content/FER2013.csv\n",
            "301MB [00:03, 90.2MB/s]\n"
          ],
          "name": "stderr"
        },
        {
          "output_type": "stream",
          "text": [
            "\n",
            "train shape: (28709, 3), \n",
            "validation shape: (3589, 3), \n",
            "test shape: (3589, 3)\n"
          ],
          "name": "stdout"
        }
      ]
    },
    {
      "cell_type": "code",
      "metadata": {
        "id": "p78W-le7Eyet"
      },
      "source": [
        "for i in data_val.index:\n",
        "  print (i)"
      ],
      "execution_count": null,
      "outputs": []
    },
    {
      "cell_type": "code",
      "metadata": {
        "id": "OX4YTmJ1tPWp",
        "outputId": "497de7e6-a819-43cd-cdb5-cfe2d88890b0",
        "colab": {
          "base_uri": "https://localhost:8080/",
          "height": 72
        }
      },
      "source": [
        "def get_formatted_file(df):\n",
        "    rows = []\n",
        "    for i in df.index:\n",
        "      row = np.array(data['pixels'][i].split(), dtype='float32').reshape(48,48)\n",
        "      rows.append(row)\n",
        "     \n",
        "    data_X = np.array(rows)\n",
        "    data_Y = np.array(df['emotion'])\n",
        "    print(f'X shape: {data_X.shape}, Y shape: {data_Y.shape}')\n",
        "    return data_X, data_Y\n",
        "\n",
        "    \n",
        "X_train, y_train = get_formatted_file(data_train) #training data\n",
        "val_X, val_Y     = get_formatted_file(data_val) #validation data\n",
        "X_test, y_test   = get_formatted_file(data_test) #test data"
      ],
      "execution_count": null,
      "outputs": [
        {
          "output_type": "stream",
          "text": [
            "X shape: (28709, 48, 48), Y shape: (28709,)\n",
            "X shape: (3589, 48, 48), Y shape: (3589,)\n",
            "X shape: (3589, 48, 48), Y shape: (3589,)\n"
          ],
          "name": "stdout"
        }
      ]
    },
    {
      "cell_type": "code",
      "metadata": {
        "id": "nT8iJO1-PkE4"
      },
      "source": [
        "X_train = np.expand_dims(X_train, axis = -1)/255\n",
        "X_test = np.expand_dims(X_test, axis = -1)/255\n",
        "val_X = np.expand_dims(val_X, axis = -1)/255\n",
        "\n",
        "print(f'X_train shape: {X_train.shape}, X_test shape: {X_test.shape}, val_X shape: {val_X.shape}')"
      ],
      "execution_count": null,
      "outputs": []
    },
    {
      "cell_type": "code",
      "metadata": {
        "id": "U2P3NX7q6C3z"
      },
      "source": [
        "class_names = ['Angry','Digust', 'Fear','Happy', 'Sad', 'Surprise', 'Neutral']"
      ],
      "execution_count": null,
      "outputs": []
    },
    {
      "cell_type": "markdown",
      "metadata": {
        "id": "5ZtUqOqePsRD"
      },
      "source": [
        "Our training set is made up of 48x48 grayscale images.\n",
        "Let's visualize what some of these images and their corresponding training labels look like."
      ]
    },
    {
      "cell_type": "code",
      "metadata": {
        "scrolled": true,
        "id": "bDBsR2lP_N8O"
      },
      "source": [
        "plt.figure(figsize=(16,16))\n",
        "random_inds = np.random.choice(20000,36)\n",
        "for i in range(36):\n",
        "    plt.subplot(6,6,i+1)\n",
        "    plt.xticks([])\n",
        "    plt.yticks([])\n",
        "    plt.grid(False)\n",
        "    image_ind = random_inds[i]\n",
        "    plt.imshow(np.squeeze(X_train[image_ind]), cmap=plt.cm.gray)\n",
        "    plt.xlabel(class_names[y_train[image_ind]])"
      ],
      "execution_count": null,
      "outputs": []
    },
    {
      "cell_type": "markdown",
      "metadata": {
        "id": "baIw9bDf8v6Z"
      },
      "source": [
        "## Convolutional Neural Network (CNN) for fashion dataset"
      ]
    },
    {
      "cell_type": "code",
      "metadata": {
        "id": "YpZcID2OuECy"
      },
      "source": [
        "#initilize parameters\n",
        "num_classes = 7 \n",
        "width, height = 48, 48\n",
        "num_features = 64"
      ],
      "execution_count": null,
      "outputs": []
    },
    {
      "cell_type": "markdown",
      "metadata": {
        "id": "EEHqzbJJAEoR"
      },
      "source": [
        "### Define the CNN model\n",
        "\n",
        "We will explore two new types of layers : [`keras.layers.Conv2D` ](https://www.tensorflow.org/api_docs/python/tf/keras/layers/Conv2D) to define convolutional layers and [`keras.layers.MaxPool2D`](https://www.tensorflow.org/api_docs/python/tf/keras/layers/MaxPool2D) to define the pooling layers. Let us use the parameters shown in the network architecture above."
      ]
    },
    {
      "cell_type": "code",
      "metadata": {
        "id": "vec9qcJs-9W5"
      },
      "source": [
        "def build_cnn_model():\n",
        "    cnn_model = tf.keras.Sequential([\n",
        "      # Module - 1 (try more than one module of Conv2D and Maxpool layers)\n",
        "      # Try adding Batchnormalisation layer\n",
        "        # Define the first convolutional layer\n",
        "    \n",
        "        # Define the first max pooling layer\n",
        "      \n",
        "\n",
        "      # Flattening\n",
        "        tf.keras.layers.Flatten(),\n",
        "\n",
        "      # Dense layers. Try using Dropout layer\n",
        "\n",
        "      \n",
        "\n",
        "        # output\n",
        "        tf.keras.layers.Dense(num_classes, activation='softmax')\n",
        "    ])\n",
        "    \n",
        "    return cnn_model\n",
        "  \n",
        "cnn_model = build_cnn_model()\n",
        "# Initialize the model by passing some data through\n"
      ],
      "execution_count": null,
      "outputs": []
    },
    {
      "cell_type": "code",
      "metadata": {
        "id": "BzoDJlku-8yd"
      },
      "source": [
        "cnn_model.predict(X_train[[0]])\n",
        "# Print the summary of the layers in the model.\n",
        "print(cnn_model.summary())"
      ],
      "execution_count": null,
      "outputs": []
    },
    {
      "cell_type": "markdown",
      "metadata": {
        "id": "kUAXIBynCih2"
      },
      "source": [
        "### Train and test the CNN model\n",
        "\n",
        "Let us define the loss function, optimizer, and metrics in the`compile` method."
      ]
    },
    {
      "cell_type": "code",
      "metadata": {
        "id": "vheyanDkCg6a"
      },
      "source": [
        "#Define the compile operation with optimizer, loss function and learning rate\n",
        "\n",
        "cnn_model.compile(optimizer=tf.keras.optimizers.Adam(learning_rate=1e-3),\n",
        "              loss='sparse_categorical_crossentropy',\n",
        "              metrics=['accuracy'])"
      ],
      "execution_count": null,
      "outputs": []
    },
    {
      "cell_type": "markdown",
      "metadata": {
        "id": "U19bpRddC7H_"
      },
      "source": [
        "As was the case with the fully connected model, we can train our CNN using the `fit` method via the Keras API."
      ]
    },
    {
      "cell_type": "code",
      "metadata": {
        "id": "YdrGZVmWDK4p"
      },
      "source": [
        "batch_size = 64\n",
        "epoch_count = 15\n",
        "\n",
        "# Bringing some variation to the image\n",
        "data_generator = ImageDataGenerator(\n",
        "                        featurewise_center=False,\n",
        "                        featurewise_std_normalization=False,\n",
        "                        rotation_range=10,\n",
        "                        width_shift_range=0.1,\n",
        "                        height_shift_range=0.1,\n",
        "                        zoom_range=.1,\n",
        "                        horizontal_flip=True)\n",
        "\n",
        "# Stops the epochs early if there is no improvement in performance\n",
        "es = EarlyStopping(monitor='val_loss', \n",
        "                   patience = 10, \n",
        "                   mode = 'min', \n",
        "                   verbose = 1,\n",
        "                   restore_best_weights=True)\n",
        "\n",
        "#Train the CNN model with fit function\n",
        "cnn_model.fit(data_generator.flow(X_train, y_train, batch_size), \n",
        "              batch_size=batch, \n",
        "              epochs=epoch_count, \n",
        "              callbacks = [es],\n",
        "              verbose = 2,\n",
        "              validation_data=(val_X, val_Y))"
      ],
      "execution_count": null,
      "outputs": []
    },
    {
      "cell_type": "markdown",
      "metadata": {
        "id": "GpcUhtIYYv3H"
      },
      "source": [
        ""
      ]
    },
    {
      "cell_type": "markdown",
      "metadata": {
        "id": "pEszYWzgDeIc"
      },
      "source": [
        "Let's evaluate its perforance on the test dataset using the [`evaluate`](https://www.tensorflow.org/api_docs/python/tf/keras/models/Sequential#evaluate) method:"
      ]
    },
    {
      "cell_type": "code",
      "metadata": {
        "id": "JDm4znZcDtNl"
      },
      "source": [
        "'''Use the evaluate method to test the model!'''\n",
        "test_loss, test_acc = cnn_model.evaluate(X_test, y_test)\n",
        "test_loss1, test_acc1 = cnn_model.evaluate(X_train, y_train)\n",
        "print('Test accuracy - Test:', test_acc)\n",
        "print('Test accuracy - Train:', test_acc1)"
      ],
      "execution_count": null,
      "outputs": []
    },
    {
      "cell_type": "markdown",
      "metadata": {
        "id": "xsoS7CPDCaXH"
      },
      "source": [
        "### Make predictions with the CNN model\n",
        "\n"
      ]
    },
    {
      "cell_type": "code",
      "metadata": {
        "id": "Gl91RPhdCaXI",
        "outputId": "0925b513-3762-4167-e975-36b433b3b50b",
        "colab": {
          "base_uri": "https://localhost:8080/",
          "height": 55
        }
      },
      "source": [
        "predictions = cnn_model.predict(X_test)"
      ],
      "execution_count": null,
      "outputs": [
        {
          "output_type": "stream",
          "text": [
            "WARNING:tensorflow:6 out of the last 6 calls to <function Model.make_predict_function.<locals>.predict_function at 0x7f718007bae8> triggered tf.function retracing. Tracing is expensive and the excessive number of tracings could be due to (1) creating @tf.function repeatedly in a loop, (2) passing tensors with different shapes, (3) passing Python objects instead of tensors. For (1), please define your @tf.function outside of the loop. For (2), @tf.function has experimental_relax_shapes=True option that relaxes argument shapes that can avoid unnecessary retracing. For (3), please refer to https://www.tensorflow.org/tutorials/customization/performance#python_or_tensor_args and https://www.tensorflow.org/api_docs/python/tf/function for  more details.\n"
          ],
          "name": "stdout"
        }
      ]
    },
    {
      "cell_type": "code",
      "metadata": {
        "id": "3DmJEUinCaXK",
        "outputId": "dcebc11b-ad72-43c7-e7e4-c8526bcc3c3f",
        "colab": {
          "base_uri": "https://localhost:8080/",
          "height": 54
        }
      },
      "source": [
        "predictions[0]"
      ],
      "execution_count": null,
      "outputs": [
        {
          "output_type": "execute_result",
          "data": {
            "text/plain": [
              "array([0.41973156, 0.11321825, 0.1675595 , 0.00441444, 0.17297886,\n",
              "       0.02052462, 0.10157281], dtype=float32)"
            ]
          },
          "metadata": {
            "tags": []
          },
          "execution_count": 80
        }
      ]
    },
    {
      "cell_type": "code",
      "metadata": {
        "id": "qsqenuPnCaXO",
        "outputId": "0441b2e7-cd76-44e0-bff4-fb2f114b6f1f",
        "colab": {
          "base_uri": "https://localhost:8080/",
          "height": 214
        }
      },
      "source": [
        "'''identify the digit with the highest confidence prediction for the first\n",
        "    image in the test dataset. '''\n",
        "item = np.random.randint(0,1000)\n",
        "prediction = np.argmax(predictions[item])\n",
        "\n",
        "print(f'Prediction is : {class_names[prediction]}')\n",
        "print(f'Label is      : {class_names[y_test[item]]}')\n",
        "plt.figure (figsize= (2,2))\n",
        "plt.imshow(X_test[item,:,:,0], cmap=plt.cm.gray)"
      ],
      "execution_count": null,
      "outputs": [
        {
          "output_type": "stream",
          "text": [
            "Prediction is : Neutral\n",
            "Label is      : Neutral\n"
          ],
          "name": "stdout"
        },
        {
          "output_type": "execute_result",
          "data": {
            "text/plain": [
              "<matplotlib.image.AxesImage at 0x7f717d2880b8>"
            ]
          },
          "metadata": {
            "tags": []
          },
          "execution_count": 85
        },
        {
          "output_type": "display_data",
          "data": {
            "image/png": "[encoded data removed]",
            "text/plain": [
              "<Figure size 144x144 with 1 Axes>"
            ]
          },
          "metadata": {
            "tags": [],
            "needs_background": "light"
          }
        }
      ]
    },
    {
      "cell_type": "code",
      "metadata": {
        "id": "9Nnp2gG6F4b8"
      },
      "source": [
        "plt.figure(figsize=(15,15))\n",
        "random_inds = np.random.choice(X_test.shape[0],36)\n",
        "for i in range(36):\n",
        "    plt.subplot(6,6,i+1)\n",
        "    plt.xticks([])\n",
        "    plt.yticks([])\n",
        "    plt.grid(False)\n",
        "    image_ind = random_inds[i]\n",
        "    plt.imshow(np.squeeze(X_test[image_ind]), cmap=plt.cm.gray)\n",
        "    prediction = np.argmax(predictions[image_ind])\n",
        "\n",
        "    plt.xlabel(class_names[y_test[image_ind]]+ '/ '+class_names[prediction])"
      ],
      "execution_count": null,
      "outputs": []
    }
  ]
}